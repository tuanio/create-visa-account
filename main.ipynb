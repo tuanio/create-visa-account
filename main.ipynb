{
 "cells": [
  {
   "cell_type": "code",
   "execution_count": 28,
   "id": "4f8a111c",
   "metadata": {},
   "outputs": [],
   "source": [
    "import yaml\n",
    "import time\n",
    "from datetime import datetime\n",
    "from selenium import webdriver\n",
    "from selenium.webdriver.common.by import By\n",
    "from selenium.webdriver.support.ui import WebDriverWait\n",
    "from selenium.webdriver.support import expected_conditions as EC"
   ]
  },
  {
   "cell_type": "code",
   "execution_count": 29,
   "id": "e57b58b3",
   "metadata": {},
   "outputs": [],
   "source": [
    "with open('configs.yaml', 'r', encoding='utf-8') as stream:\n",
    "    try:\n",
    "        configs = yaml.safe_load(stream)\n",
    "    except Exception as e:\n",
    "        print(\"Có lỗi xảy ra khi đọc file configs.yaml\")\n",
    "        print(str(e))"
   ]
  },
  {
   "cell_type": "code",
   "execution_count": 30,
   "id": "f46bb6b7",
   "metadata": {},
   "outputs": [
    {
     "data": {
      "text/plain": [
       "{'urls': {'region': {'vn': 'https://www.immigration.govt.nz/new-zealand-visas/apply-for-a-visa/about-visa/vietnam-working-holiday-visa',\n",
       "   'usa': 'https://www.immigration.govt.nz/new-zealand-visas/apply-for-a-visa/about-visa/united-states-of-america-working-holiday-visa'},\n",
       "  'chosen': 'usa'},\n",
       " 'submit_time': {'hour': 14, 'minute': 59},\n",
       " 'authentication': {'username': 'jessedo',\n",
       "  'password': '123Dkvinh',\n",
       "  'payer_name': 'Nguyen Van Anh Tuan'},\n",
       " 'payment': {'card_number': 1111111111111111111,\n",
       "  'expirydate': 1111,\n",
       "  'csc': 1111,\n",
       "  'cardholder_name': 'Nguyen Van Anh Tuan'},\n",
       " 'waiting_time': 240,\n",
       " 'css': {'apply_now_btn': 'button#submit_eoi_btn',\n",
       "  'login_btn': 'a.btn.btn__login.sitelogin',\n",
       "  'username_txt': 'input[type=text]',\n",
       "  'password_txt': 'input[type=password]',\n",
       "  'submit_btn': 'input[type=submit]',\n",
       "  'submit_process_btn': 'a#ContentPlaceHolder1_applicationList_applicationsDataGrid_submitHyperlink_0',\n",
       "  'next_step_btn': 'a#ContentPlaceHolder1_onlinePaymentAnchor2 > span',\n",
       "  'payer_name_txt': 'input#_ctl0_ContentPlaceHolder1_payerNameTextBox',\n",
       "  'ok_btn': 'input#_ctl0_ContentPlaceHolder1_okButton',\n",
       "  'card_number_txt': 'input#cardnumber',\n",
       "  'expirydate_txt': 'input#expirydate',\n",
       "  'csc_txt': 'input#cardverificationcode',\n",
       "  'card_holder_txt': 'input#cardholder',\n",
       "  'payment_btn': 'button.payment-button'}}"
      ]
     },
     "execution_count": 30,
     "metadata": {},
     "output_type": "execute_result"
    }
   ],
   "source": [
    "configs"
   ]
  },
  {
   "cell_type": "code",
   "execution_count": 31,
   "id": "03c77127",
   "metadata": {},
   "outputs": [],
   "source": [
    "driver = webdriver.Chrome()\n",
    "driver.implicitly_wait(configs['waiting_time'])"
   ]
  },
  {
   "cell_type": "code",
   "execution_count": 32,
   "id": "1576c801",
   "metadata": {},
   "outputs": [],
   "source": [
    "# chosen = configs['urls']['chosen']\n",
    "# driver.get(configs['urls']['region'][chosen])\n",
    "\n",
    "driver.get(configs['urls']['login_url'])\n",
    "time.sleep(1)"
   ]
  },
  {
   "cell_type": "code",
   "execution_count": 6,
   "id": "956d7560",
   "metadata": {},
   "outputs": [],
   "source": [
    "# define function\n",
    "def find_element(css_selector):\n",
    "    return driver.find_element(By.CSS_SELECTOR, css_selector)\n",
    "\n",
    "def find_elements(css_selector):\n",
    "    return driver.find_elements(By.CSS_SELECTOR, css_selector)\n",
    "\n",
    "def waiting(css_selector, time=configs['waiting_time']):\n",
    "    return WebDriverWait(driver, time).until(\n",
    "        EC.presence_of_element_located((By.CSS_SELECTOR, css_selector))\n",
    "    )\n",
    "\n",
    "def scroll_bottom():\n",
    "    driver.execute_script(\"window.scrollTo(0, document.body.scrollHeight);\")"
   ]
  },
  {
   "cell_type": "code",
   "execution_count": 7,
   "id": "ee3b93f8",
   "metadata": {},
   "outputs": [],
   "source": [
    "scroll_bottom()"
   ]
  },
  {
   "cell_type": "code",
   "execution_count": 8,
   "id": "fa921b41",
   "metadata": {},
   "outputs": [],
   "source": [
    "# button apply now\n",
    "# waiting(configs['css']['apply_now_btn']).click()"
   ]
  },
  {
   "cell_type": "code",
   "execution_count": 9,
   "id": "71ad1a98",
   "metadata": {},
   "outputs": [],
   "source": [
    "# scroll_bottom()\n",
    "# button login or create account\n",
    "# find_elements(configs['css']['login_btn'])[-1].click()"
   ]
  },
  {
   "cell_type": "code",
   "execution_count": 10,
   "id": "a747e721",
   "metadata": {},
   "outputs": [],
   "source": [
    "# switch tab\n",
    "# driver.switch_to.window(driver.window_handles[-1])"
   ]
  },
  {
   "cell_type": "code",
   "execution_count": 11,
   "id": "a4321b04",
   "metadata": {},
   "outputs": [],
   "source": [
    "scroll_bottom()\n",
    "# username input\n",
    "waiting(configs['css']['username_txt']).send_keys(configs['authentication']['username'])\n",
    "waiting(configs['css']['password_txt']).send_keys(configs['authentication']['password'])\n",
    "waiting(configs['css']['submit_btn']).click() # button click submit"
   ]
  },
  {
   "cell_type": "markdown",
   "id": "40bb2c0c-31fa-4f18-a421-25c951d88e30",
   "metadata": {},
   "source": [
    "# Đợi ở đây"
   ]
  },
  {
   "cell_type": "code",
   "execution_count": 33,
   "id": "157355ed-4ae8-4425-9ef1-d6b3179e8dad",
   "metadata": {},
   "outputs": [
    {
     "data": {
      "text/plain": [
       "{'hour': 14, 'minute': 59}"
      ]
     },
     "execution_count": 33,
     "metadata": {},
     "output_type": "execute_result"
    }
   ],
   "source": [
    "configs['submit_time']"
   ]
  },
  {
   "cell_type": "code",
   "execution_count": 34,
   "id": "9871623a-eebd-493d-a05b-24159763c3e2",
   "metadata": {},
   "outputs": [
    {
     "name": "stdout",
     "output_type": "stream",
     "text": [
      "Continue\n"
     ]
    }
   ],
   "source": [
    "def check():\n",
    "    now = datetime.now()\n",
    "    return (now.hour == configs['submit_time']['hour']) and (now.minute == configs['submit_time']['minute'])\n",
    "\n",
    "print(\"Đợi một chút\")\n",
    "\n",
    "while not check():\n",
    "    time.sleep(1)\n",
    "    \n",
    "print(\"Continue\")"
   ]
  },
  {
   "cell_type": "code",
   "execution_count": 14,
   "id": "b6b4b0e8",
   "metadata": {},
   "outputs": [],
   "source": [
    "scroll_bottom()\n",
    "# button submit\n",
    "waiting(configs['css']['submit_process_btn']).click()"
   ]
  },
  {
   "cell_type": "code",
   "execution_count": 16,
   "id": "7e5a9d9c-5d54-4960-98b6-79d30d6a34c7",
   "metadata": {},
   "outputs": [],
   "source": [
    "waiting('input[type=checkbox]')\n",
    "# list tick button\n",
    "driver.execute_script(\"document.querySelectorAll('input[type=checkbox]').forEach((e) => e.click())\")"
   ]
  },
  {
   "cell_type": "code",
   "execution_count": 17,
   "id": "bc4b35f2-eb01-4a94-963f-a6df1b4f814c",
   "metadata": {},
   "outputs": [],
   "source": [
    "find_element('input[value=SUBMIT]').click()"
   ]
  },
  {
   "cell_type": "code",
   "execution_count": 18,
   "id": "9a157daa-b816-4e85-9772-742414669098",
   "metadata": {},
   "outputs": [],
   "source": [
    "# pay now button\n",
    "waiting('div[align=center] > table > tbody > tr > td > a').click()"
   ]
  },
  {
   "cell_type": "code",
   "execution_count": 19,
   "id": "2ae613c3",
   "metadata": {},
   "outputs": [],
   "source": [
    "scroll_bottom()\n",
    "# button next step\n",
    "waiting(configs['css']['next_step_btn']).click()"
   ]
  },
  {
   "cell_type": "code",
   "execution_count": 20,
   "id": "77282d30",
   "metadata": {},
   "outputs": [],
   "source": [
    "scroll_bottom()\n",
    "# payer name\n",
    "waiting(configs['css']['payer_name_txt']).send_keys(configs['authentication']['payer_name'])\n",
    "waiting(configs['css']['ok_btn']).click() # button ok"
   ]
  },
  {
   "cell_type": "code",
   "execution_count": 21,
   "id": "07a7dfa2",
   "metadata": {},
   "outputs": [],
   "source": [
    "scroll_bottom()\n",
    "# payment information\n",
    "waiting(configs['css']['card_number_txt']).send_keys(configs['payment']['card_number'])\n",
    "waiting(configs['css']['expirydate_txt']).send_keys(configs['payment']['expirydate'])\n",
    "waiting(configs['css']['csc_txt']).send_keys(configs['payment']['csc'])\n",
    "waiting(configs['css']['card_holder_txt']).send_keys(configs['payment']['cardholder_name'])\n",
    "# button pay\n",
    "waiting(configs['css']['payment_btn']).click() # button click payment"
   ]
  }
 ],
 "metadata": {
  "kernelspec": {
   "display_name": "Python 3 (ipykernel)",
   "language": "python",
   "name": "python3"
  },
  "language_info": {
   "codemirror_mode": {
    "name": "ipython",
    "version": 3
   },
   "file_extension": ".py",
   "mimetype": "text/x-python",
   "name": "python",
   "nbconvert_exporter": "python",
   "pygments_lexer": "ipython3",
   "version": "3.9.7"
  }
 },
 "nbformat": 4,
 "nbformat_minor": 5
}
